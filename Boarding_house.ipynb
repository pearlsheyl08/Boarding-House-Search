{
 "cells": [
  {
   "cell_type": "code",
   "execution_count": 18,
   "id": "452101a7-cd47-4465-8457-51926170e516",
   "metadata": {},
   "outputs": [
    {
     "name": "stderr",
     "output_type": "stream",
     "text": [
      "[nltk_data] Downloading package punkt_tab to C:\\Program\n",
      "[nltk_data]     Files\\Python312\\nltk_data...\n",
      "[nltk_data]   Package punkt_tab is already up-to-date!\n",
      "[nltk_data] Downloading package wordnet to C:\\Program\n",
      "[nltk_data]     Files\\Python312\\nltk_data...\n",
      "[nltk_data]   Package wordnet is already up-to-date!\n",
      "[nltk_data] Downloading package stopwords to C:\\Program\n",
      "[nltk_data]     Files\\Python312\\nltk_data...\n",
      "[nltk_data]   Package stopwords is already up-to-date!\n",
      "[nltk_data] Downloading package omw-1.4 to C:\\Program\n",
      "[nltk_data]     Files\\Python312\\nltk_data...\n",
      "[nltk_data]   Package omw-1.4 is already up-to-date!\n"
     ]
    }
   ],
   "source": [
    "#importing libraries\n",
    "import pandas as pd\n",
    "import numpy as np\n",
    "#natural language toolkit processing \n",
    "import nltk  \n",
    "#nltk.data.path.append(\"C:/Program Files/Python312/nltk_data/punkt_tab/\")\n",
    "nltk.download('punkt_tab')\n",
    "nltk.download('wordnet')\n",
    "nltk.download('stopwords')\n",
    "#open multilingual wordnet\n",
    "nltk.download('omw-1.4') \n",
    "from nltk.corpus import stopwords\n",
    "from nltk.tokenize import word_tokenize\n",
    "from nltk.stem.wordnet import WordNetLemmatizer\n",
    "#helps get rid of the punctuation\n",
    "from ast import literal_eval "
   ]
  },
  {
   "cell_type": "code",
   "execution_count": 19,
   "id": "bfb5cd7f-e00a-4ef6-a206-3d00e3a49aca",
   "metadata": {},
   "outputs": [],
   "source": [
    "#uploading dataset\n",
    "#added encoding technique since the data set can't load\n",
    "data = pd.read_csv('bh.csv', encoding='ISO-8859-1')"
   ]
  },
  {
   "cell_type": "code",
   "execution_count": 20,
   "id": "6086c20a-9bee-4fe8-bb1d-abd1c32d8333",
   "metadata": {},
   "outputs": [
    {
     "data": {
      "text/html": [
       "<div>\n",
       "<style scoped>\n",
       "    .dataframe tbody tr th:only-of-type {\n",
       "        vertical-align: middle;\n",
       "    }\n",
       "\n",
       "    .dataframe tbody tr th {\n",
       "        vertical-align: top;\n",
       "    }\n",
       "\n",
       "    .dataframe thead th {\n",
       "        text-align: right;\n",
       "    }\n",
       "</style>\n",
       "<table border=\"1\" class=\"dataframe\">\n",
       "  <thead>\n",
       "    <tr style=\"text-align: right;\">\n",
       "      <th></th>\n",
       "      <th>Name</th>\n",
       "      <th>Street</th>\n",
       "      <th>Location</th>\n",
       "      <th>Price</th>\n",
       "      <th>Crime Rate</th>\n",
       "      <th>Person</th>\n",
       "      <th>Bed</th>\n",
       "      <th>Bath</th>\n",
       "      <th>Latitude</th>\n",
       "      <th>Longitude</th>\n",
       "    </tr>\n",
       "  </thead>\n",
       "  <tbody>\n",
       "    <tr>\n",
       "      <th>0</th>\n",
       "      <td>Luna BH</td>\n",
       "      <td>Luna Street</td>\n",
       "      <td>Iloilo City Proper</td>\n",
       "      <td>2,000</td>\n",
       "      <td>1.10</td>\n",
       "      <td>2</td>\n",
       "      <td>1</td>\n",
       "      <td>Shared</td>\n",
       "      <td>10.70078</td>\n",
       "      <td>122.562460</td>\n",
       "    </tr>\n",
       "    <tr>\n",
       "      <th>1</th>\n",
       "      <td>Central Park BH</td>\n",
       "      <td>Delgado Street</td>\n",
       "      <td>Iloilo City Proper</td>\n",
       "      <td>2,500</td>\n",
       "      <td>1.15</td>\n",
       "      <td>3</td>\n",
       "      <td>2</td>\n",
       "      <td>Shared</td>\n",
       "      <td>10.69776</td>\n",
       "      <td>122.565292</td>\n",
       "    </tr>\n",
       "    <tr>\n",
       "      <th>2</th>\n",
       "      <td>City Haven BH</td>\n",
       "      <td>Mabini Street</td>\n",
       "      <td>Iloilo City Proper</td>\n",
       "      <td>2,300</td>\n",
       "      <td>1.05</td>\n",
       "      <td>2</td>\n",
       "      <td>1</td>\n",
       "      <td>Shared</td>\n",
       "      <td>10.69699</td>\n",
       "      <td>122.564750</td>\n",
       "    </tr>\n",
       "    <tr>\n",
       "      <th>3</th>\n",
       "      <td>Sunshine BH</td>\n",
       "      <td>Rizal Street</td>\n",
       "      <td>Iloilo City Proper</td>\n",
       "      <td>2,800</td>\n",
       "      <td>1.20</td>\n",
       "      <td>4</td>\n",
       "      <td>3</td>\n",
       "      <td>Shared</td>\n",
       "      <td>10.70182</td>\n",
       "      <td>122.574620</td>\n",
       "    </tr>\n",
       "    <tr>\n",
       "      <th>4</th>\n",
       "      <td>Plaza Prime BH</td>\n",
       "      <td>General Luna Street</td>\n",
       "      <td>Iloilo City Proper</td>\n",
       "      <td>3,000</td>\n",
       "      <td>1.25</td>\n",
       "      <td>3</td>\n",
       "      <td>2</td>\n",
       "      <td>Shared</td>\n",
       "      <td>10.70078</td>\n",
       "      <td>122.562462</td>\n",
       "    </tr>\n",
       "  </tbody>\n",
       "</table>\n",
       "</div>"
      ],
      "text/plain": [
       "              Name               Street            Location  Price  \\\n",
       "0          Luna BH          Luna Street  Iloilo City Proper  2,000   \n",
       "1  Central Park BH       Delgado Street  Iloilo City Proper  2,500   \n",
       "2    City Haven BH        Mabini Street  Iloilo City Proper  2,300   \n",
       "3      Sunshine BH         Rizal Street  Iloilo City Proper  2,800   \n",
       "4   Plaza Prime BH  General Luna Street  Iloilo City Proper  3,000   \n",
       "\n",
       "   Crime Rate  Person  Bed    Bath  Latitude   Longitude  \n",
       "0        1.10       2    1  Shared  10.70078  122.562460  \n",
       "1        1.15       3    2  Shared  10.69776  122.565292  \n",
       "2        1.05       2    1  Shared  10.69699  122.564750  \n",
       "3        1.20       4    3  Shared  10.70182  122.574620  \n",
       "4        1.25       3    2  Shared  10.70078  122.562462  "
      ]
     },
     "execution_count": 20,
     "metadata": {},
     "output_type": "execute_result"
    }
   ],
   "source": [
    "data.head()"
   ]
  },
  {
   "cell_type": "code",
   "execution_count": 21,
   "id": "f2c91071-61d4-4bbd-a919-ed3d5ccff578",
   "metadata": {},
   "outputs": [
    {
     "name": "stdout",
     "output_type": "stream",
     "text": [
      "<class 'pandas.core.frame.DataFrame'>\n",
      "RangeIndex: 30 entries, 0 to 29\n",
      "Data columns (total 10 columns):\n",
      " #   Column      Non-Null Count  Dtype  \n",
      "---  ------      --------------  -----  \n",
      " 0   Name        30 non-null     object \n",
      " 1   Street      30 non-null     object \n",
      " 2   Location    30 non-null     object \n",
      " 3   Price       30 non-null     object \n",
      " 4   Crime Rate  30 non-null     float64\n",
      " 5   Person      30 non-null     int64  \n",
      " 6   Bed         30 non-null     int64  \n",
      " 7   Bath        30 non-null     object \n",
      " 8   Latitude    30 non-null     float64\n",
      " 9   Longitude   30 non-null     float64\n",
      "dtypes: float64(3), int64(2), object(5)\n",
      "memory usage: 2.5+ KB\n"
     ]
    }
   ],
   "source": [
    "data.info()"
   ]
  },
  {
   "cell_type": "code",
   "execution_count": 22,
   "id": "b15569c5-0cda-48e5-ab88-4e06c8e2a66a",
   "metadata": {},
   "outputs": [
    {
     "data": {
      "text/plain": [
       "Name           object\n",
       "Street         object\n",
       "Location       object\n",
       "Price          object\n",
       "Crime Rate    float64\n",
       "Person          int64\n",
       "Bed             int64\n",
       "Bath           object\n",
       "Latitude      float64\n",
       "Longitude     float64\n",
       "dtype: object"
      ]
     },
     "execution_count": 22,
     "metadata": {},
     "output_type": "execute_result"
    }
   ],
   "source": [
    "data.dtypes"
   ]
  },
  {
   "cell_type": "code",
   "execution_count": 23,
   "id": "3f33828f-6f3c-45c7-a85f-bbcd352f0a63",
   "metadata": {},
   "outputs": [],
   "source": [
    "#convert data type Price into int\n",
    "data['Price'] = data['Price'].str.replace(',','').astype(int)"
   ]
  },
  {
   "cell_type": "code",
   "execution_count": 24,
   "id": "4a8ca2d6-191c-4890-8b07-cc2e4a4af16b",
   "metadata": {},
   "outputs": [
    {
     "data": {
      "text/plain": [
       "Name           object\n",
       "Street         object\n",
       "Location       object\n",
       "Price           int64\n",
       "Crime Rate    float64\n",
       "Person          int64\n",
       "Bed             int64\n",
       "Bath           object\n",
       "Latitude      float64\n",
       "Longitude     float64\n",
       "dtype: object"
      ]
     },
     "execution_count": 24,
     "metadata": {},
     "output_type": "execute_result"
    }
   ],
   "source": [
    "data.dtypes"
   ]
  },
  {
   "cell_type": "code",
   "execution_count": 25,
   "id": "467d076a-f1c9-48e8-825e-2a30fb86cbc5",
   "metadata": {},
   "outputs": [
    {
     "data": {
      "text/plain": [
       "Location\n",
       "Iloilo City Proper    5\n",
       "Jaro                  5\n",
       "Lapaz                 5\n",
       "Arevalo               5\n",
       "Lapuz                 5\n",
       "Mandurriao            5\n",
       "Name: count, dtype: int64"
      ]
     },
     "execution_count": 25,
     "metadata": {},
     "output_type": "execute_result"
    }
   ],
   "source": [
    "data['Location'].value_counts()"
   ]
  },
  {
   "cell_type": "code",
   "execution_count": 26,
   "id": "9f331ddf-7589-4529-bd47-08ce6d3a6f19",
   "metadata": {},
   "outputs": [
    {
     "data": {
      "text/plain": [
       "Index(['Name', 'Street', 'Location', 'Price', 'Crime Rate', 'Person', 'Bed',\n",
       "       'Bath', 'Latitude', 'Longitude'],\n",
       "      dtype='object')"
      ]
     },
     "execution_count": 26,
     "metadata": {},
     "output_type": "execute_result"
    }
   ],
   "source": [
    "data.columns"
   ]
  },
  {
   "cell_type": "code",
   "execution_count": 27,
   "id": "aa3d9596-d705-4a1c-a942-76b038dca103",
   "metadata": {},
   "outputs": [],
   "source": [
    "#convert data type Person and Bed into object\n",
    "data = data.astype({'Person': 'O', 'Bed': 'O'})"
   ]
  },
  {
   "cell_type": "code",
   "execution_count": 28,
   "id": "60b0b1e7-1a2a-41dd-867f-f309fba8602a",
   "metadata": {},
   "outputs": [
    {
     "name": "stdout",
     "output_type": "stream",
     "text": [
      "[2 3 4 1]\n",
      "[1 2 3 4]\n"
     ]
    }
   ],
   "source": [
    "print(data['Person'].unique())\n",
    "print(data['Bed'].unique())"
   ]
  },
  {
   "cell_type": "code",
   "execution_count": 29,
   "id": "2ff95312-85c7-46d1-9f82-9242eafcbf54",
   "metadata": {},
   "outputs": [],
   "source": [
    "#convert data types into string to crate new column 'Tag'\n",
    "# Define mapping functions\n",
    "def person_mapping(value):\n",
    "    mapping = {1: 'One Person', 2: 'Two Person', 3: 'Three Person', 4: 'Four Person'}\n",
    "    return mapping.get(value, value)  # If value not in mapping, return the original\n",
    "\n",
    "def bed_mapping(value):\n",
    "    mapping = {1: 'One Bed', 2: 'Two Bed', 3: 'Three Bed', 4: 'Four Bed'}\n",
    "    return mapping.get(value, value)  # If value not in mapping, return the original\n",
    "\n",
    "# Apply these functions to update the columns\n",
    "data['Person'] = data['Person'].apply(person_mapping)\n",
    "data['Bed'] = data['Bed'].apply(bed_mapping)"
   ]
  },
  {
   "cell_type": "code",
   "execution_count": 30,
   "id": "4f0ee553-ec70-4dea-b075-9c2fadc43d2a",
   "metadata": {},
   "outputs": [
    {
     "data": {
      "text/html": [
       "<div>\n",
       "<style scoped>\n",
       "    .dataframe tbody tr th:only-of-type {\n",
       "        vertical-align: middle;\n",
       "    }\n",
       "\n",
       "    .dataframe tbody tr th {\n",
       "        vertical-align: top;\n",
       "    }\n",
       "\n",
       "    .dataframe thead th {\n",
       "        text-align: right;\n",
       "    }\n",
       "</style>\n",
       "<table border=\"1\" class=\"dataframe\">\n",
       "  <thead>\n",
       "    <tr style=\"text-align: right;\">\n",
       "      <th></th>\n",
       "      <th>Name</th>\n",
       "      <th>Street</th>\n",
       "      <th>Location</th>\n",
       "      <th>Price</th>\n",
       "      <th>Crime Rate</th>\n",
       "      <th>Person</th>\n",
       "      <th>Bed</th>\n",
       "      <th>Bath</th>\n",
       "      <th>Latitude</th>\n",
       "      <th>Longitude</th>\n",
       "    </tr>\n",
       "  </thead>\n",
       "  <tbody>\n",
       "    <tr>\n",
       "      <th>0</th>\n",
       "      <td>Luna BH</td>\n",
       "      <td>Luna Street</td>\n",
       "      <td>Iloilo City Proper</td>\n",
       "      <td>2000</td>\n",
       "      <td>1.10</td>\n",
       "      <td>Two Person</td>\n",
       "      <td>One Bed</td>\n",
       "      <td>Shared</td>\n",
       "      <td>10.70078</td>\n",
       "      <td>122.562460</td>\n",
       "    </tr>\n",
       "    <tr>\n",
       "      <th>1</th>\n",
       "      <td>Central Park BH</td>\n",
       "      <td>Delgado Street</td>\n",
       "      <td>Iloilo City Proper</td>\n",
       "      <td>2500</td>\n",
       "      <td>1.15</td>\n",
       "      <td>Three Person</td>\n",
       "      <td>Two Bed</td>\n",
       "      <td>Shared</td>\n",
       "      <td>10.69776</td>\n",
       "      <td>122.565292</td>\n",
       "    </tr>\n",
       "    <tr>\n",
       "      <th>2</th>\n",
       "      <td>City Haven BH</td>\n",
       "      <td>Mabini Street</td>\n",
       "      <td>Iloilo City Proper</td>\n",
       "      <td>2300</td>\n",
       "      <td>1.05</td>\n",
       "      <td>Two Person</td>\n",
       "      <td>One Bed</td>\n",
       "      <td>Shared</td>\n",
       "      <td>10.69699</td>\n",
       "      <td>122.564750</td>\n",
       "    </tr>\n",
       "    <tr>\n",
       "      <th>3</th>\n",
       "      <td>Sunshine BH</td>\n",
       "      <td>Rizal Street</td>\n",
       "      <td>Iloilo City Proper</td>\n",
       "      <td>2800</td>\n",
       "      <td>1.20</td>\n",
       "      <td>Four Person</td>\n",
       "      <td>Three Bed</td>\n",
       "      <td>Shared</td>\n",
       "      <td>10.70182</td>\n",
       "      <td>122.574620</td>\n",
       "    </tr>\n",
       "    <tr>\n",
       "      <th>4</th>\n",
       "      <td>Plaza Prime BH</td>\n",
       "      <td>General Luna Street</td>\n",
       "      <td>Iloilo City Proper</td>\n",
       "      <td>3000</td>\n",
       "      <td>1.25</td>\n",
       "      <td>Three Person</td>\n",
       "      <td>Two Bed</td>\n",
       "      <td>Shared</td>\n",
       "      <td>10.70078</td>\n",
       "      <td>122.562462</td>\n",
       "    </tr>\n",
       "  </tbody>\n",
       "</table>\n",
       "</div>"
      ],
      "text/plain": [
       "              Name               Street            Location  Price  \\\n",
       "0          Luna BH          Luna Street  Iloilo City Proper   2000   \n",
       "1  Central Park BH       Delgado Street  Iloilo City Proper   2500   \n",
       "2    City Haven BH        Mabini Street  Iloilo City Proper   2300   \n",
       "3      Sunshine BH         Rizal Street  Iloilo City Proper   2800   \n",
       "4   Plaza Prime BH  General Luna Street  Iloilo City Proper   3000   \n",
       "\n",
       "   Crime Rate        Person        Bed    Bath  Latitude   Longitude  \n",
       "0        1.10    Two Person    One Bed  Shared  10.70078  122.562460  \n",
       "1        1.15  Three Person    Two Bed  Shared  10.69776  122.565292  \n",
       "2        1.05    Two Person    One Bed  Shared  10.69699  122.564750  \n",
       "3        1.20   Four Person  Three Bed  Shared  10.70182  122.574620  \n",
       "4        1.25  Three Person    Two Bed  Shared  10.70078  122.562462  "
      ]
     },
     "execution_count": 30,
     "metadata": {},
     "output_type": "execute_result"
    }
   ],
   "source": [
    "data.head()"
   ]
  },
  {
   "cell_type": "code",
   "execution_count": 31,
   "id": "90fc2daf-5ba3-4ab5-8881-285fe6ae9a96",
   "metadata": {},
   "outputs": [],
   "source": [
    "data['Tags'] = data['Person'].astype(str) + ' ' + data['Bath'].astype(str) + ' ' + data['Bed'].astype(str)\n"
   ]
  },
  {
   "cell_type": "code",
   "execution_count": 32,
   "id": "49f0762e-91de-405f-a8dd-715dcd7fb1d2",
   "metadata": {},
   "outputs": [
    {
     "data": {
      "text/html": [
       "<div>\n",
       "<style scoped>\n",
       "    .dataframe tbody tr th:only-of-type {\n",
       "        vertical-align: middle;\n",
       "    }\n",
       "\n",
       "    .dataframe tbody tr th {\n",
       "        vertical-align: top;\n",
       "    }\n",
       "\n",
       "    .dataframe thead th {\n",
       "        text-align: right;\n",
       "    }\n",
       "</style>\n",
       "<table border=\"1\" class=\"dataframe\">\n",
       "  <thead>\n",
       "    <tr style=\"text-align: right;\">\n",
       "      <th></th>\n",
       "      <th>Name</th>\n",
       "      <th>Street</th>\n",
       "      <th>Location</th>\n",
       "      <th>Price</th>\n",
       "      <th>Crime Rate</th>\n",
       "      <th>Person</th>\n",
       "      <th>Bed</th>\n",
       "      <th>Bath</th>\n",
       "      <th>Latitude</th>\n",
       "      <th>Longitude</th>\n",
       "      <th>Tags</th>\n",
       "    </tr>\n",
       "  </thead>\n",
       "  <tbody>\n",
       "    <tr>\n",
       "      <th>0</th>\n",
       "      <td>Luna BH</td>\n",
       "      <td>Luna Street</td>\n",
       "      <td>Iloilo City Proper</td>\n",
       "      <td>2000</td>\n",
       "      <td>1.10</td>\n",
       "      <td>Two Person</td>\n",
       "      <td>One Bed</td>\n",
       "      <td>Shared</td>\n",
       "      <td>10.70078</td>\n",
       "      <td>122.562460</td>\n",
       "      <td>Two Person Shared One Bed</td>\n",
       "    </tr>\n",
       "    <tr>\n",
       "      <th>1</th>\n",
       "      <td>Central Park BH</td>\n",
       "      <td>Delgado Street</td>\n",
       "      <td>Iloilo City Proper</td>\n",
       "      <td>2500</td>\n",
       "      <td>1.15</td>\n",
       "      <td>Three Person</td>\n",
       "      <td>Two Bed</td>\n",
       "      <td>Shared</td>\n",
       "      <td>10.69776</td>\n",
       "      <td>122.565292</td>\n",
       "      <td>Three Person Shared Two Bed</td>\n",
       "    </tr>\n",
       "    <tr>\n",
       "      <th>2</th>\n",
       "      <td>City Haven BH</td>\n",
       "      <td>Mabini Street</td>\n",
       "      <td>Iloilo City Proper</td>\n",
       "      <td>2300</td>\n",
       "      <td>1.05</td>\n",
       "      <td>Two Person</td>\n",
       "      <td>One Bed</td>\n",
       "      <td>Shared</td>\n",
       "      <td>10.69699</td>\n",
       "      <td>122.564750</td>\n",
       "      <td>Two Person Shared One Bed</td>\n",
       "    </tr>\n",
       "    <tr>\n",
       "      <th>3</th>\n",
       "      <td>Sunshine BH</td>\n",
       "      <td>Rizal Street</td>\n",
       "      <td>Iloilo City Proper</td>\n",
       "      <td>2800</td>\n",
       "      <td>1.20</td>\n",
       "      <td>Four Person</td>\n",
       "      <td>Three Bed</td>\n",
       "      <td>Shared</td>\n",
       "      <td>10.70182</td>\n",
       "      <td>122.574620</td>\n",
       "      <td>Four Person Shared Three Bed</td>\n",
       "    </tr>\n",
       "    <tr>\n",
       "      <th>4</th>\n",
       "      <td>Plaza Prime BH</td>\n",
       "      <td>General Luna Street</td>\n",
       "      <td>Iloilo City Proper</td>\n",
       "      <td>3000</td>\n",
       "      <td>1.25</td>\n",
       "      <td>Three Person</td>\n",
       "      <td>Two Bed</td>\n",
       "      <td>Shared</td>\n",
       "      <td>10.70078</td>\n",
       "      <td>122.562462</td>\n",
       "      <td>Three Person Shared Two Bed</td>\n",
       "    </tr>\n",
       "  </tbody>\n",
       "</table>\n",
       "</div>"
      ],
      "text/plain": [
       "              Name               Street            Location  Price  \\\n",
       "0          Luna BH          Luna Street  Iloilo City Proper   2000   \n",
       "1  Central Park BH       Delgado Street  Iloilo City Proper   2500   \n",
       "2    City Haven BH        Mabini Street  Iloilo City Proper   2300   \n",
       "3      Sunshine BH         Rizal Street  Iloilo City Proper   2800   \n",
       "4   Plaza Prime BH  General Luna Street  Iloilo City Proper   3000   \n",
       "\n",
       "   Crime Rate        Person        Bed    Bath  Latitude   Longitude  \\\n",
       "0        1.10    Two Person    One Bed  Shared  10.70078  122.562460   \n",
       "1        1.15  Three Person    Two Bed  Shared  10.69776  122.565292   \n",
       "2        1.05    Two Person    One Bed  Shared  10.69699  122.564750   \n",
       "3        1.20   Four Person  Three Bed  Shared  10.70182  122.574620   \n",
       "4        1.25  Three Person    Two Bed  Shared  10.70078  122.562462   \n",
       "\n",
       "                           Tags  \n",
       "0     Two Person Shared One Bed  \n",
       "1   Three Person Shared Two Bed  \n",
       "2     Two Person Shared One Bed  \n",
       "3  Four Person Shared Three Bed  \n",
       "4   Three Person Shared Two Bed  "
      ]
     },
     "execution_count": 32,
     "metadata": {},
     "output_type": "execute_result"
    }
   ],
   "source": [
    "data.head()"
   ]
  },
  {
   "cell_type": "code",
   "execution_count": 33,
   "id": "60fc727d-c206-4818-8611-7c57732def40",
   "metadata": {},
   "outputs": [],
   "source": [
    "#Converting \"Tags\" and Location\" columns to lowercase for simplicity\n",
    "data['Tags'] = data['Tags'].str.lower()"
   ]
  },
  {
   "cell_type": "code",
   "execution_count": 34,
   "id": "e4b4ba91-c30c-40d0-a621-5bc97d0d81c0",
   "metadata": {},
   "outputs": [],
   "source": [
    "#Recommender function\n",
    "#Location is location and Tags is description\n",
    "def recommender(location, description, price):\n",
    "    # Convert description to lowercase and tokenize (sentences into words)\n",
    "    description = description.lower()\n",
    "    description_tokens = word_tokenize(description)\n",
    "    \n",
    "    # Load stopwords\n",
    "    stop_words = set(stopwords.words('english'))\n",
    "    \n",
    "    # Apply lemmatization\n",
    "    lemm = WordNetLemmatizer()\n",
    "    \n",
    "    # Filter out stopwords and apply lemmatization to description\n",
    "    filtered_set = {lemm.lemmatize(word) for word in description_tokens if word not in stop_words}\n",
    "    \n",
    "    # Filter data by location and price (case-insensitive comparison)\n",
    "    filtered_data = data[\n",
    "        (data['Location'].str.lower() == location.lower()) & \n",
    "        (data['Price'] <= price)\n",
    "    ]\n",
    "    \n",
    "    # Reset the index of the filtered DataFrame\n",
    "    filtered_data = filtered_data.set_index(np.arange(filtered_data.shape[0])) \n",
    "\n",
    "    print(\"Filtered Location DataFrame:\")\n",
    "    print(filtered_data[[\"Location\"]].head())\n",
    "    \n",
    "    # Calculate similarity\n",
    "    cos = []\n",
    "    for i in range(filtered_data.shape[0]):\n",
    "        # Tokenize and filter \"Tags\" for the current row\n",
    "        tag_tokens = word_tokenize(filtered_data[\"Tags\"][i].lower())\n",
    "        temp_set = {lemm.lemmatize(word) for word in tag_tokens if word not in stop_words}\n",
    "        \n",
    "        # Calculate the intersection to simulate cosine similarity\n",
    "        vector = temp_set.intersection(filtered_set)\n",
    "        cos.append(len(vector))\n",
    "    \n",
    "    # Add similarity scores to filtered DataFrame\n",
    "    filtered_data['similarity'] = cos\n",
    "    \n",
    "    # Sort by similarity score, then by Crime Rate and Price\n",
    "    filtered_data = filtered_data.sort_values(\n",
    "        by=['similarity', 'Crime Rate', 'Price'], \n",
    "        ascending=[False, True, True]\n",
    "    )\n",
    "    \n",
    "    # Remove duplicate rows based on the 'Name' column\n",
    "    filtered_data.drop_duplicates(subset='Name', keep='first', inplace=True)\n",
    "    \n",
    "    # Return the top 3 results with the original capitalization of the Location column\n",
    "    return filtered_data[[\"Name\", \"Crime Rate\", \"Price\", \"Street\", \"Location\"]].head(3)\n"
   ]
  },
  {
   "cell_type": "code",
   "execution_count": 35,
   "id": "d16bb539-b29b-4f57-816d-84aed44b319f",
   "metadata": {},
   "outputs": [
    {
     "name": "stdout",
     "output_type": "stream",
     "text": [
      "Filtered Location DataFrame:\n",
      "             Location\n",
      "0  Iloilo City Proper\n",
      "1  Iloilo City Proper\n",
      "2  Iloilo City Proper\n",
      "              Name  Crime Rate  Price          Street            Location\n",
      "2    City Haven BH        1.05   2300   Mabini Street  Iloilo City Proper\n",
      "0          Luna BH        1.10   2000     Luna Street  Iloilo City Proper\n",
      "1  Central Park BH        1.15   2500  Delgado Street  Iloilo City Proper\n"
     ]
    }
   ],
   "source": [
    "#Enter your input\n",
    "print(recommender('Iloilo City Proper', 'Shared', 2500))"
   ]
  },
  {
   "cell_type": "code",
   "execution_count": null,
   "id": "8ded5117-dbb6-4f42-aba1-fe85856affcf",
   "metadata": {},
   "outputs": [],
   "source": [
    "import pickle\n",
    "\n",
    "pickle.dump(data, open('artifacts/bh_list.pkl', 'wb'))\n",
    "pickle.dump(data, open('artifacts/similarity.pkl', 'wb'))"
   ]
  },
  {
   "cell_type": "code",
   "execution_count": null,
   "id": "9e2bd2a6-42dd-454c-a4b7-e9ac7ff0773c",
   "metadata": {},
   "outputs": [],
   "source": []
  },
  {
   "cell_type": "code",
   "execution_count": null,
   "id": "f3b78931-26b7-4623-8343-52a2b6ab01e3",
   "metadata": {},
   "outputs": [],
   "source": []
  }
 ],
 "metadata": {
  "kernelspec": {
   "display_name": "Python 3 (ipykernel)",
   "language": "python",
   "name": "python3"
  },
  "language_info": {
   "codemirror_mode": {
    "name": "ipython",
    "version": 3
   },
   "file_extension": ".py",
   "mimetype": "text/x-python",
   "name": "python",
   "nbconvert_exporter": "python",
   "pygments_lexer": "ipython3",
   "version": "3.12.6"
  }
 },
 "nbformat": 4,
 "nbformat_minor": 5
}
